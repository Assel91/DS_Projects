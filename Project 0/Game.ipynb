{
 "cells": [
  {
   "cell_type": "markdown",
   "metadata": {},
   "source": [
    "# Игра угадай число"
   ]
  },
  {
   "cell_type": "code",
   "execution_count": 1,
   "metadata": {},
   "outputs": [],
   "source": [
    "from Game_V2 import score_game\n",
    "from Game_V2 import predict_number\n",
    "from Game_V2 import predict_number_v2\n",
    "from Game_V2 import predict_number_v3"
   ]
  },
  {
   "cell_type": "markdown",
   "metadata": {},
   "source": [
    "## Угадываем число рандомно, выводим частоту угадывания "
   ]
  },
  {
   "cell_type": "code",
   "execution_count": 2,
   "metadata": {},
   "outputs": [
    {
     "name": "stdout",
     "output_type": "stream",
     "text": [
      "Ваш алгоритм угадывает число в среднем за 72 попыток\n"
     ]
    }
   ],
   "source": [
    "score_game(predict_number)"
   ]
  },
  {
   "cell_type": "markdown",
   "metadata": {},
   "source": [
    "### Пытаемся улучшить алгоритм угадывания. Этап 1\n",
    "Пытаемся подсказать компьютеру, если загаднное число меньше чем рандомно подобранное число, то рандомно подобранное число увеличиваем на +1 и наоборот. "
   ]
  },
  {
   "cell_type": "code",
   "execution_count": 3,
   "metadata": {},
   "outputs": [
    {
     "name": "stdout",
     "output_type": "stream",
     "text": [
      "Ваш алгоритм угадывает число в среднем за 32 попыток\n"
     ]
    }
   ],
   "source": [
    "score_game(predict_number_v2)"
   ]
  },
  {
   "cell_type": "markdown",
   "metadata": {},
   "source": [
    "Как видим алгоритм угадывания с использованием подсказки в виде больше или меньше, улучшил алгоритм поиска"
   ]
  },
  {
   "cell_type": "markdown",
   "metadata": {},
   "source": [
    "## Пытаемся улучшить алгоритм угадывания. Этап 2\n",
    "Мы помогаем компьютеру определить диапазон в списке чисел от 1 до 100, в котором может находиться загаданное число. Если загаданное число находится в диапазоне от середины списка до 100, продолжаем поиск в диапазоне от 50 до 100, начиная с середины. Каждый раз диапазон поиска уменьшается вдвое, постепенно сужая возможное местоположение загаданного числа. (Этот подход использует метод бинарного поиска.)"
   ]
  },
  {
   "cell_type": "code",
   "execution_count": 4,
   "metadata": {},
   "outputs": [
    {
     "name": "stdout",
     "output_type": "stream",
     "text": [
      "Ваш алгоритм угадывает число в среднем за 6 попыток\n"
     ]
    }
   ],
   "source": [
    "score_game(predict_number_v3)"
   ]
  },
  {
   "cell_type": "markdown",
   "metadata": {},
   "source": [
    "# Выводы\n",
    "Как мы видим использование метода бинарного поиска помогло сократить количество попыток на поиск загадонного числа в среднем примерно на 10 раз."
   ]
  }
 ],
 "metadata": {
  "kernelspec": {
   "display_name": "Python 3",
   "language": "python",
   "name": "python3"
  },
  "language_info": {
   "codemirror_mode": {
    "name": "ipython",
    "version": 3
   },
   "file_extension": ".py",
   "mimetype": "text/x-python",
   "name": "python",
   "nbconvert_exporter": "python",
   "pygments_lexer": "ipython3",
   "version": "3.13.0"
  }
 },
 "nbformat": 4,
 "nbformat_minor": 2
}
